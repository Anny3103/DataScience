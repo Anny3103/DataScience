{
 "cells": [
  {
   "cell_type": "code",
   "execution_count": 10,
   "id": "3c07c70f-399e-4aba-8b28-e737cc995b50",
   "metadata": {},
   "outputs": [],
   "source": [
    "import pandas as pd\n",
    "from sklearn.model_selection import train_test_split\n",
    "from sklearn.metrics import mean_absolute_error\n",
    "from sklearn.metrics import r2_score\n",
    "from sklearn.metrics import mean_absolute_percentage_error\n",
    "from sklearn.model_selection import GridSearchCV\n",
    "from sklearn.model_selection import cross_val_score, KFold\n",
    "from sklearn.linear_model import LinearRegression, Ridge, Lasso, ElasticNet, SGDRegressor, BayesianRidge, ARDRegression\n",
    "import seaborn as sns\n",
    "import matplotlib.pyplot as plt\n",
    "import numpy as np\n",
    "from tensorflow.keras.optimizers import SGD\n",
    "from sklearn.neural_network import MLPRegressor\n",
    "%matplotlib inline \n",
    "sns.set(style=\"ticks\")"
   ]
  },
  {
   "cell_type": "markdown",
   "id": "c40dbb57-93ff-4f70-900c-8ba8fd7a5a73",
   "metadata": {},
   "source": [
    "## Загрузка данных"
   ]
  },
  {
   "cell_type": "code",
   "execution_count": 2,
   "id": "da977bf9-b3bd-4743-9dad-df7075ae17be",
   "metadata": {},
   "outputs": [],
   "source": [
    "# Загрузим все наши преобразованные данные\n",
    "Data_natural = pd.read_csv('Data_natural.csv')\n",
    "Data_scaled_test_1 = pd.read_csv('data_cs12_scaled_test.csv')\n",
    "Data_scaled_train_1 = pd.read_csv('data_cs12_scaled_train.csv')\n",
    "Data_scaled_test_2 = pd.read_csv('data_cs22_scaled_test.csv')\n",
    "Data_scaled_train_2 = pd.read_csv('data_cs22_scaled_train.csv')\n",
    "Data_scaled_test_y=pd.read_csv('data_cs22_scaled_test_y.csv')\n",
    "Data_scaled_train_y=pd.read_csv('data_cs22_scaled_train_y.csv')"
   ]
  },
  {
   "cell_type": "code",
   "execution_count": 3,
   "id": "6ef6fa16-77fa-44ff-bd61-2b34e9c8f73d",
   "metadata": {},
   "outputs": [],
   "source": [
    "# ВО всех датафреймах загрузился столбец лишний с номером. Удалим его сразу\n",
    "Data_natural = Data_natural.drop('Unnamed: 0', axis=1)\n",
    "Data_scaled_test_1= Data_scaled_test_1.drop('Unnamed: 0', axis=1)\n",
    "Data_scaled_train_1= Data_scaled_train_1.drop('Unnamed: 0', axis=1)\n",
    "Data_scaled_train_2= Data_scaled_train_2.drop('Unnamed: 0', axis=1)\n",
    "Data_scaled_test_2= Data_scaled_test_2.drop('Unnamed: 0', axis=1)\n",
    "Data_scaled_test_y= Data_scaled_test_y.drop('Unnamed: 0', axis=1)\n",
    "Data_scaled_train_y= Data_scaled_train_y.drop('Unnamed: 0', axis=1)"
   ]
  },
  {
   "cell_type": "code",
   "execution_count": 4,
   "id": "3b00be87-a44a-45c4-982a-bc23923040f5",
   "metadata": {},
   "outputs": [],
   "source": [
    "# Выделим зависимую переменную\n",
    "Y= Data_natural['Прибыль в расчете на 1 работника']\n",
    "# DataFrame не содержащий целевой признак\n",
    "X_ALL = Data_natural.drop('Прибыль в расчете на 1 работника', axis=1)"
   ]
  },
  {
   "cell_type": "code",
   "execution_count": 5,
   "id": "53521644-e8a7-46ab-a9d8-cfee92170205",
   "metadata": {},
   "outputs": [],
   "source": [
    "# Разбиваем датасет на train/test исходные данные без стандартизации\n",
    "X_train, X_test, y_train, y_test = train_test_split(X_ALL, Y, \n",
    "                                                                train_size=0.8, test_size=0.2,\n",
    "                                                                random_state=0)"
   ]
  },
  {
   "cell_type": "markdown",
   "id": "d3b114b1-ae2f-4cdc-a42f-4573516f4b5c",
   "metadata": {},
   "source": [
    "## Построение моделей"
   ]
  },
  {
   "cell_type": "code",
   "execution_count": 18,
   "id": "182b206f-9ccf-499c-9c9e-e9d61c27c492",
   "metadata": {},
   "outputs": [],
   "source": [
    "# Cоздадим списки для хранения моделей\n",
    "MAE_y=[]\n",
    "R2_y=[]\n",
    "MAPE_y=[]"
   ]
  },
  {
   "cell_type": "markdown",
   "id": "673fe2cf-7e6e-40f5-90eb-4c249fe66085",
   "metadata": {},
   "source": [
    "## Ridge regression"
   ]
  },
  {
   "cell_type": "code",
   "execution_count": 7,
   "id": "2536c2c4-cef6-4f4e-b10f-f10ade8da65e",
   "metadata": {},
   "outputs": [],
   "source": [
    "params = [{'alpha': [20, 10, 1, 0.1, 0.01, 0.0001],\n",
    "           \"solver\": ['svd', 'cholesky', 'lsqr', 'sparse_cg', 'sag', 'saga']}]"
   ]
  },
  {
   "cell_type": "markdown",
   "id": "818f45bf-d4cf-441c-ba57-ca8c03d22306",
   "metadata": {},
   "source": [
    "StandardScaler"
   ]
  },
  {
   "cell_type": "code",
   "execution_count": 11,
   "id": "b9decfea-3c77-4496-a392-68055054942a",
   "metadata": {},
   "outputs": [
    {
     "data": {
      "text/plain": [
       "GridSearchCV(cv=KFold(n_splits=10, random_state=1, shuffle=True),\n",
       "             estimator=Ridge(), n_jobs=-1,\n",
       "             param_grid=[{'alpha': [20, 10, 1, 0.1, 0.01, 0.0001],\n",
       "                          'solver': ['svd', 'cholesky', 'lsqr', 'sparse_cg',\n",
       "                                     'sag', 'saga']}],\n",
       "             return_train_score=True, scoring='neg_root_mean_squared_error')"
      ]
     },
     "execution_count": 11,
     "metadata": {},
     "output_type": "execute_result"
    }
   ],
   "source": [
    "# Поиск по сетке с перекрестной проверкой\n",
    "modelRidge = Ridge()\n",
    "cv_scheme = KFold(n_splits=10, shuffle=True, random_state=1)\n",
    "cv = GridSearchCV(estimator=modelRidge, param_grid=params,\n",
    "                  scoring='neg_root_mean_squared_error', cv=cv_scheme, return_train_score=True, n_jobs=-1)\n",
    "\n",
    "cv.fit(Data_scaled_train_1,Data_scaled_train_y)"
   ]
  },
  {
   "cell_type": "code",
   "execution_count": 12,
   "id": "cf194246-4128-4bdb-aebb-f12220c791cb",
   "metadata": {},
   "outputs": [
    {
     "name": "stdout",
     "output_type": "stream",
     "text": [
      "Лучший параметр для гребневой регрессии:\n",
      "{'alpha': 0.01, 'solver': 'sag'}\n",
      "Лучший средний балл перекрестной проверки:\n",
      "-588806.6766290737\n"
     ]
    }
   ],
   "source": [
    "print(\"Лучший параметр для гребневой регрессии:\")\n",
    "print(cv.best_params_)\n",
    "print(\"Лучший средний балл перекрестной проверки:\")\n",
    "print(cv.best_score_)"
   ]
  },
  {
   "cell_type": "code",
   "execution_count": 16,
   "id": "634f6e20-19e6-4391-a90d-3a5325bd9d4c",
   "metadata": {},
   "outputs": [
    {
     "name": "stdout",
     "output_type": "stream",
     "text": [
      "(3003, 1)\n",
      "423749.2511956893\n",
      "0.6626253340532142\n",
      "7.602662617458295\n"
     ]
    }
   ],
   "source": [
    "# модель линейной регрессии Ridge\n",
    "alpha = cv.best_params_['alpha']\n",
    "solver = cv.best_params_['solver']\n",
    "\n",
    "modelRidge = Ridge(alpha=alpha, solver=solver)\n",
    "modelRidge.fit(Data_scaled_train_1,Data_scaled_train_y)\n",
    "print (modelRidge.predict(Data_scaled_test_1).shape)\n",
    "y_pred = modelRidge.predict(Data_scaled_test_1)\n",
    "MAE_Ridge_1 = mean_absolute_error(Data_scaled_test_y,y_pred)\n",
    "R2_Ridge_1 = r2_score(Data_scaled_test_y,y_pred)\n",
    "MAPE_Ridge_1=mean_absolute_percentage_error(Data_scaled_test_y,y_pred)\n",
    "print (MAE_Ridge_1)\n",
    "print (R2_Ridge_1)\n",
    "print (MAPE_Ridge_1)"
   ]
  },
  {
   "cell_type": "code",
   "execution_count": 19,
   "id": "35a976ad-62f5-4a7f-b4da-1a4f5443ccac",
   "metadata": {},
   "outputs": [],
   "source": [
    "# записываем данные о показателях качества в итоговую таблицу\n",
    "MAE_y.append(['Ridge',MAE_Ridge_1])\n",
    "R2_y.append(['Ridge',R2_Ridge_1])\n",
    "MAPE_y.append(['Ridge',MAPE_Ridge_1])"
   ]
  },
  {
   "cell_type": "markdown",
   "id": "090d7a74-0f63-428e-8c64-44a49834996b",
   "metadata": {},
   "source": [
    "MeanNormalisation"
   ]
  },
  {
   "cell_type": "code",
   "execution_count": 21,
   "id": "bd50b862-e507-4727-a2ad-2761ad4ee869",
   "metadata": {},
   "outputs": [
    {
     "data": {
      "text/plain": [
       "GridSearchCV(cv=KFold(n_splits=10, random_state=1, shuffle=True),\n",
       "             estimator=Ridge(), n_jobs=-1,\n",
       "             param_grid=[{'alpha': [20, 10, 1, 0.1, 0.01, 0.0001],\n",
       "                          'solver': ['svd', 'cholesky', 'lsqr', 'sparse_cg',\n",
       "                                     'sag', 'saga']}],\n",
       "             return_train_score=True, scoring='neg_root_mean_squared_error')"
      ]
     },
     "execution_count": 21,
     "metadata": {},
     "output_type": "execute_result"
    }
   ],
   "source": [
    "# Поиск по сетке с перекрестной проверкой\n",
    "modelRidge = Ridge()\n",
    "cv_scheme = KFold(n_splits=10, shuffle=True, random_state=1)\n",
    "cv = GridSearchCV(estimator=modelRidge, param_grid=params,\n",
    "                  scoring='neg_root_mean_squared_error', cv=cv_scheme, return_train_score=True, n_jobs=-1)\n",
    "\n",
    "cv.fit(Data_scaled_train_2,Data_scaled_train_y)"
   ]
  },
  {
   "cell_type": "code",
   "execution_count": 22,
   "id": "8443cc65-a159-4954-ba5f-f169d9b65965",
   "metadata": {},
   "outputs": [
    {
     "name": "stdout",
     "output_type": "stream",
     "text": [
      "Лучший параметр для гребневой регрессии:\n",
      "{'alpha': 0.1, 'solver': 'sag'}\n",
      "Лучший средний балл перекрестной проверки:\n",
      "-588806.4292541135\n"
     ]
    }
   ],
   "source": [
    "print(\"Лучший параметр для гребневой регрессии:\")\n",
    "print(cv.best_params_)\n",
    "print(\"Лучший средний балл перекрестной проверки:\")\n",
    "print(cv.best_score_)"
   ]
  },
  {
   "cell_type": "code",
   "execution_count": 24,
   "id": "107923f5-0807-484f-8202-1596314b6553",
   "metadata": {},
   "outputs": [
    {
     "name": "stdout",
     "output_type": "stream",
     "text": [
      "(3003, 1)\n",
      "423762.81270740024\n",
      "0.6626150744689492\n",
      "7.599450997227071\n"
     ]
    }
   ],
   "source": [
    "# модель линейной регрессии Ridge\n",
    "alpha = cv.best_params_['alpha']\n",
    "solver = cv.best_params_['solver']\n",
    "\n",
    "modelRidge = Ridge(alpha=alpha, solver=solver)\n",
    "modelRidge.fit(Data_scaled_train_2,Data_scaled_train_y)\n",
    "print (modelRidge.predict(Data_scaled_test_2).shape)\n",
    "y_pred = modelRidge.predict(Data_scaled_test_2)\n",
    "MAE_Ridge_2 = mean_absolute_error(Data_scaled_test_y,y_pred)\n",
    "R2_Ridge_2 = r2_score(Data_scaled_test_y,y_pred)\n",
    "MAPE_Ridge_2=mean_absolute_percentage_error(Data_scaled_test_y,y_pred)\n",
    "print (MAE_Ridge_2)\n",
    "print (R2_Ridge_2)\n",
    "print (MAPE_Ridge_2)"
   ]
  },
  {
   "cell_type": "code",
   "execution_count": 25,
   "id": "acb0f827-4704-4e41-a814-a5cb0582b7a0",
   "metadata": {},
   "outputs": [],
   "source": [
    "# записываем данные о показателях качества в итоговую таблицу\n",
    "MAE_y.append(['Ridge2',MAE_Ridge_2])\n",
    "R2_y.append(['Ridge2',R2_Ridge_2])\n",
    "MAPE_y.append(['Ridge2',MAPE_Ridge_2])"
   ]
  },
  {
   "cell_type": "code",
   "execution_count": 28,
   "id": "b7aa1d10-b9f7-4933-9c0a-7a98d68319ab",
   "metadata": {},
   "outputs": [
    {
     "name": "stdout",
     "output_type": "stream",
     "text": [
      "Lambda=1e-05 ошибка MAE=423755.2161511899\n",
      "Lambda=1e-05 ошибка R2=0.6626235498234028\n",
      "Lambda=1e-05 ошибка R2=7.603404463996474\n",
      "_____\n",
      "Lambda=0.0001 ошибка MAE=423755.2167128109\n",
      "Lambda=0.0001 ошибка R2=0.6626235500023125\n",
      "Lambda=0.0001 ошибка R2=7.6034044000282766\n",
      "_____\n",
      "Lambda=0.001 ошибка MAE=423755.22232901934\n",
      "Lambda=0.001 ошибка R2=0.6626235517914043\n",
      "Lambda=0.001 ошибка R2=7.603403760346456\n",
      "_____\n",
      "Lambda=0.01 ошибка MAE=423755.2784909046\n",
      "Lambda=0.01 ошибка R2=0.6626235696818179\n",
      "Lambda=0.01 ошибка R2=7.6033973635423635\n",
      "_____\n",
      "Lambda=0.1 ошибка MAE=423755.84008974984\n",
      "Lambda=0.1 ошибка R2=0.6626237485355859\n",
      "Lambda=0.1 ошибка R2=7.603333396912786\n",
      "_____\n",
      "Lambda=0.2 ошибка MAE=423756.46404580836\n",
      "Lambda=0.2 ошибка R2=0.6626239471545992\n",
      "Lambda=0.2 ошибка R2=7.603262325889377\n",
      "_____\n",
      "Lambda=0.3 ошибка MAE=423757.0879569688\n",
      "Lambda=0.3 ошибка R2=0.6626241456605835\n",
      "Lambda=0.3 ошибка R2=7.603191258033483\n",
      "_____\n",
      "Lambda=0.4 ошибка MAE=423757.7118232372\n",
      "Lambda=0.4 ошибка R2=0.6626243440535589\n",
      "Lambda=0.4 ошибка R2=7.603120193344774\n",
      "_____\n",
      "Lambda=0.5 ошибка MAE=423758.3356446195\n",
      "Lambda=0.5 ошибка R2=0.6626245423335448\n",
      "Lambda=0.5 ошибка R2=7.603049131822916\n",
      "_____\n"
     ]
    }
   ],
   "source": [
    "lambda_values = [0.00001, 0.0001, 0.001, 0.01, 0.1, 0.2, 0.3, 0.4, 0.5]\n",
    "\n",
    "for lambda_val in lambda_values:\n",
    "    modelRidge = Ridge(lambda_val)\n",
    "    modelRidge.fit(Data_scaled_train_1,Data_scaled_train_y)\n",
    "    y_pred =  modelRidge.predict(Data_scaled_test_1)\n",
    "    MAERidge_1 = mean_absolute_error(Data_scaled_test_y,y_pred)\n",
    "    R2Ridge_1 = r2_score(Data_scaled_test_y,y_pred)\n",
    "    MAPE_Ridge_1=mean_absolute_percentage_error(Data_scaled_test_y,y_pred)\n",
    "    print((\"Lambda={} ошибка MAE={}\").format(lambda_val, MAERidge_1))\n",
    "    print((\"Lambda={} ошибка R2={}\").format(lambda_val, R2Ridge_1))\n",
    "    print((\"Lambda={} ошибка R2={}\").format(lambda_val, MAPE_Ridge_1))\n",
    "    print(\"_____\")"
   ]
  },
  {
   "cell_type": "markdown",
   "id": "a213eb78-fc06-433b-bf8a-9c5bc0c113ed",
   "metadata": {},
   "source": [
    "## Lasso regression"
   ]
  },
  {
   "cell_type": "markdown",
   "id": "d419646b-a523-4b01-a7ae-e1e55106542a",
   "metadata": {},
   "source": [
    "StandardScaler"
   ]
  },
  {
   "cell_type": "code",
   "execution_count": 31,
   "id": "d75ad335-439c-48c3-bd32-cfc3de4daa2d",
   "metadata": {},
   "outputs": [
    {
     "name": "stdout",
     "output_type": "stream",
     "text": [
      "423755.2162766188\n",
      "0.6626235497297432\n",
      "7.603404419940278\n"
     ]
    }
   ],
   "source": [
    "# модель линейной регрессии Lasso\n",
    "modelLasso = Lasso(alpha=0.001)\n",
    "modelLasso.fit(Data_scaled_train_1,Data_scaled_train_y)\n",
    "y_pred = modelLasso.predict(Data_scaled_test_1)\n",
    "MAE_Lasso_1 = mean_absolute_error(Data_scaled_test_y,y_pred)\n",
    "R2_Lasso_1 = r2_score(Data_scaled_test_y,y_pred)\n",
    "MAPE_Lasso_1=mean_absolute_percentage_error(Data_scaled_test_y,y_pred)\n",
    "print (MAE_Lasso_1)\n",
    "print (R2_Lasso_1)\n",
    "print (MAPE_Lasso_1)"
   ]
  },
  {
   "cell_type": "code",
   "execution_count": 32,
   "id": "d50a099b-bd9b-4688-a77b-27ef196e7351",
   "metadata": {},
   "outputs": [],
   "source": [
    "# записываем данные о показателях качества в итоговую таблицу\n",
    "MAE_y.append(['Lasso',MAE_Lasso_1])\n",
    "R2_y.append(['Lasso',R2_Lasso_1])\n",
    "MAPE_y.append(['Lasso',MAPE_Lasso_1])"
   ]
  },
  {
   "cell_type": "markdown",
   "id": "2c308e0c-7ebe-44f1-9bd5-4ee51f31a34f",
   "metadata": {},
   "source": [
    "MeanNormalisation"
   ]
  },
  {
   "cell_type": "code",
   "execution_count": 33,
   "id": "025ac570-1286-439e-a1e9-4b8c06870a33",
   "metadata": {},
   "outputs": [
    {
     "name": "stdout",
     "output_type": "stream",
     "text": [
      "423755.2168100557\n",
      "0.6626235496510025\n",
      "7.603404295946575\n"
     ]
    }
   ],
   "source": [
    "# модель линейной регрессии Lasso\n",
    "modelLasso = Lasso(alpha=0.001)\n",
    "modelLasso.fit(Data_scaled_train_2,Data_scaled_train_y)\n",
    "y_pred = modelLasso.predict(Data_scaled_test_2)\n",
    "MAE_Lasso_2 = mean_absolute_error(Data_scaled_test_y,y_pred)\n",
    "R2_Lasso_2 = r2_score(Data_scaled_test_y,y_pred)\n",
    "MAPE_Lasso_2=mean_absolute_percentage_error(Data_scaled_test_y,y_pred)\n",
    "print (MAE_Lasso_2)\n",
    "print (R2_Lasso_2)\n",
    "print (MAPE_Lasso_2)"
   ]
  },
  {
   "cell_type": "code",
   "execution_count": 34,
   "id": "4242de95-e089-4698-b87c-3fde6b19a388",
   "metadata": {},
   "outputs": [],
   "source": [
    "# записываем данные о показателях качества в итоговую таблицу\n",
    "MAE_y.append(['Lasso2',MAE_Lasso_2])\n",
    "R2_y.append(['Lasso2',R2_Lasso_2])\n",
    "MAPE_y.append(['Lasso2',MAPE_Lasso_2])"
   ]
  },
  {
   "cell_type": "markdown",
   "id": "283e3fda-5a6c-4a23-8534-7934d24b0dbc",
   "metadata": {},
   "source": [
    "## ElasticNet regression"
   ]
  },
  {
   "cell_type": "markdown",
   "id": "6cb64edc-665c-4825-b60e-274f5989bb32",
   "metadata": {},
   "source": [
    "StandardScaler"
   ]
  },
  {
   "cell_type": "code",
   "execution_count": 35,
   "id": "59f71b95-4073-4cf0-997a-09cd7ccd7a87",
   "metadata": {},
   "outputs": [
    {
     "name": "stdout",
     "output_type": "stream",
     "text": [
      "446066.9252404609\n",
      "0.6489260933940177\n",
      "6.657383614325499\n"
     ]
    }
   ],
   "source": [
    "# модель линейной регрессии ElasticNet\n",
    "modelElastic = ElasticNet(alpha=0.5, l1_ratio=0.5)\n",
    "modelElastic.fit(Data_scaled_train_1,Data_scaled_train_y)\n",
    "y_pred = modelElastic.predict(Data_scaled_test_1)\n",
    "MAE_Elastic_1 = mean_absolute_error(Data_scaled_test_y,y_pred)\n",
    "R2_Elastic_1 = r2_score(Data_scaled_test_y,y_pred)\n",
    "MAPE_Elastic_1=mean_absolute_percentage_error(Data_scaled_test_y,y_pred)\n",
    "print (MAE_Elastic_1)\n",
    "print (R2_Elastic_1)\n",
    "print (MAPE_Elastic_1)"
   ]
  },
  {
   "cell_type": "code",
   "execution_count": 36,
   "id": "c98060a7-f80b-46e2-a0ec-a462dfc2fe94",
   "metadata": {},
   "outputs": [],
   "source": [
    "# записываем данные о показателях качества в итоговую таблицу\n",
    "MAE_y.append(['Elastic1',MAE_Elastic_1])\n",
    "R2_y.append(['Elastic1',R2_Elastic_1])\n",
    "MAPE_y.append(['Elastic1',MAPE_Elastic_1])"
   ]
  },
  {
   "cell_type": "markdown",
   "id": "795f58db-a2d6-4126-ae8e-9321fb4be0ff",
   "metadata": {},
   "source": [
    "MeanNormalisation"
   ]
  },
  {
   "cell_type": "code",
   "execution_count": 37,
   "id": "ee014826-cc58-4799-9ad6-1cae1f9045da",
   "metadata": {},
   "outputs": [
    {
     "name": "stdout",
     "output_type": "stream",
     "text": [
      "616376.1605312865\n",
      "0.3906174184208623\n",
      "9.304927492387593\n"
     ]
    }
   ],
   "source": [
    "# модель линейной регрессии ElasticNet\n",
    "modelElastic = ElasticNet(alpha=0.5, l1_ratio=0.5)\n",
    "modelElastic.fit(Data_scaled_train_2,Data_scaled_train_y)\n",
    "y_pred = modelElastic.predict(Data_scaled_test_2)\n",
    "MAE_Elastic_2 = mean_absolute_error(Data_scaled_test_y,y_pred)\n",
    "R2_Elastic_2 = r2_score(Data_scaled_test_y,y_pred)\n",
    "MAPE_Elastic_2=mean_absolute_percentage_error(Data_scaled_test_y,y_pred)\n",
    "print (MAE_Elastic_2)\n",
    "print (R2_Elastic_2)\n",
    "print (MAPE_Elastic_2)"
   ]
  },
  {
   "cell_type": "code",
   "execution_count": 38,
   "id": "2088c4d8-10bf-4c8d-b243-5fe35d8495ff",
   "metadata": {},
   "outputs": [],
   "source": [
    "# записываем данные о показателях качества в итоговую таблицу\n",
    "MAE_y.append(['Elastic2',MAE_Elastic_2])\n",
    "R2_y.append(['Elastic2',R2_Elastic_2])\n",
    "MAPE_y.append(['Elastic2',MAPE_Elastic_2])"
   ]
  },
  {
   "cell_type": "code",
   "execution_count": 40,
   "id": "bc6abfb7-33e4-4527-954d-01915f4a7bf5",
   "metadata": {},
   "outputs": [
    {
     "data": {
      "text/plain": [
       "[<matplotlib.lines.Line2D at 0x2015e6701c0>]"
      ]
     },
     "execution_count": 40,
     "metadata": {},
     "output_type": "execute_result"
    },
    {
     "data": {
      "image/png": "[encoded data removed]",
      "text/plain": [
       "<Figure size 1440x720 with 1 Axes>"
      ]
     },
     "metadata": {},
     "output_type": "display_data"
    }
   ],
   "source": [
    "# Визуализируем полученные результаты работы модели K-Neighbors Regressor:\n",
    "plt.figure(figsize = (20, 10))\n",
    "plt.title(\"Тестовые и прогнозные значения метода ElasticNet\")\n",
    "plt.plot(y_pred, label = \"Прогноз\", color = 'blue')\n",
    "plt.plot(Data_scaled_test_y.values, label = \"Тест\", color = 'red')"
   ]
  },
  {
   "cell_type": "markdown",
   "id": "3578c217-d3d9-4355-9422-b4069dd43d55",
   "metadata": {},
   "source": [
    "## Линейная регрессия"
   ]
  },
  {
   "cell_type": "markdown",
   "id": "8e93fb46-b1d4-4e55-b97e-8fda1a7102b0",
   "metadata": {},
   "source": [
    "StandardScaler"
   ]
  },
  {
   "cell_type": "code",
   "execution_count": 48,
   "id": "5f314029-5c19-4114-bcb0-17385ef84311",
   "metadata": {},
   "outputs": [
    {
     "name": "stdout",
     "output_type": "stream",
     "text": [
      "423755.2160887873\n",
      "0.662623549803524\n",
      "7.603404471104058\n"
     ]
    }
   ],
   "source": [
    "modelLR = LinearRegression()\n",
    "modelLR.fit(Data_scaled_train_1,Data_scaled_train_y)\n",
    "y_pred = modelLR.predict(Data_scaled_test_1)\n",
    "MAE_LR_1 = mean_absolute_error(Data_scaled_test_y,y_pred)\n",
    "R2_LR_1 = r2_score(Data_scaled_test_y,y_pred)\n",
    "MAPE_LR_1=mean_absolute_percentage_error(Data_scaled_test_y,y_pred)\n",
    "print (MAE_LR_1)\n",
    "print (R2_LR_1)\n",
    "print (MAPE_LR_1)\n"
   ]
  },
  {
   "cell_type": "code",
   "execution_count": 49,
   "id": "3a146a37-8e3e-498f-8100-1bc75523be5f",
   "metadata": {},
   "outputs": [
    {
     "data": {
      "text/plain": [
       "array([[  -7474.18984001,  400265.60322803, -187601.47622878,\n",
       "         170961.53252074,  -32737.01564408,   51789.49215456,\n",
       "          -2660.35542477,  127796.91985881,   -8158.95957339,\n",
       "        -108786.38969175,   61240.4960021 , -511009.65641609]])"
      ]
     },
     "execution_count": 49,
     "metadata": {},
     "output_type": "execute_result"
    }
   ],
   "source": [
    "#Параметры уравнения регрессии\n",
    "modelLR.coef_"
   ]
  },
  {
   "cell_type": "code",
   "execution_count": 54,
   "id": "f5f897ec-43ee-4bae-8ae9-0cd5a5e681f5",
   "metadata": {},
   "outputs": [],
   "source": [
    "# записываем данные о показателях качества в итоговую таблицу\n",
    "MAE_y.append(['LinearRegr',MAE_LR_1])\n",
    "R2_y.append(['LinearRegr',R2_LR_1])\n",
    "MAPE_y.append(['LinearRegr',MAPE_LR_1])"
   ]
  },
  {
   "cell_type": "markdown",
   "id": "513a5580-0353-4d97-baaf-77c016e46107",
   "metadata": {},
   "source": [
    "MeanNormalisation"
   ]
  },
  {
   "cell_type": "code",
   "execution_count": 50,
   "id": "2b1f5172-3259-4b96-b346-6f5f2db2f776",
   "metadata": {},
   "outputs": [
    {
     "name": "stdout",
     "output_type": "stream",
     "text": [
      "423755.21608878736\n",
      "0.6626235498035239\n",
      "7.6034044711040485\n"
     ]
    }
   ],
   "source": [
    "modelLR = LinearRegression()\n",
    "modelLR.fit(Data_scaled_train_2,Data_scaled_train_y)\n",
    "y_pred = modelLR.predict(Data_scaled_test_2)\n",
    "MAE_LR_2 = mean_absolute_error(Data_scaled_test_y,y_pred)\n",
    "R2_LR_2 = r2_score(Data_scaled_test_y,y_pred)\n",
    "MAPE_LR_2=mean_absolute_percentage_error(Data_scaled_test_y,y_pred)\n",
    "print (MAE_LR_2)\n",
    "print (R2_LR_2)\n",
    "print (MAPE_LR_2)\n"
   ]
  },
  {
   "cell_type": "code",
   "execution_count": 51,
   "id": "bd74e34c-82d3-4196-a307-a6bd9974dba2",
   "metadata": {},
   "outputs": [],
   "source": [
    "# записываем данные о показателях качества в итоговую таблицу\n",
    "MAE_y.append(['LinearRegr2',MAE_LR_2])\n",
    "R2_y.append(['LinearRegr2',R2_LR_2])\n",
    "MAPE_y.append(['LinearRegr2',MAPE_LR_2])"
   ]
  },
  {
   "cell_type": "markdown",
   "id": "fe721074-8c0b-4d25-8095-eff1e6420da1",
   "metadata": {},
   "source": [
    "## Оценка результатов"
   ]
  },
  {
   "cell_type": "code",
   "execution_count": 55,
   "id": "5b4cfa1a-dfa8-41fa-8d52-060b3187ec0a",
   "metadata": {},
   "outputs": [
    {
     "data": {
      "text/html": [
       "<div>\n",
       "<style scoped>\n",
       "    .dataframe tbody tr th:only-of-type {\n",
       "        vertical-align: middle;\n",
       "    }\n",
       "\n",
       "    .dataframe tbody tr th {\n",
       "        vertical-align: top;\n",
       "    }\n",
       "\n",
       "    .dataframe thead th {\n",
       "        text-align: right;\n",
       "    }\n",
       "</style>\n",
       "<table border=\"1\" class=\"dataframe\">\n",
       "  <thead>\n",
       "    <tr style=\"text-align: right;\">\n",
       "      <th></th>\n",
       "      <th>Модель регрессии</th>\n",
       "      <th>MAE</th>\n",
       "      <th>R2</th>\n",
       "      <th>MAPE</th>\n",
       "    </tr>\n",
       "  </thead>\n",
       "  <tbody>\n",
       "    <tr>\n",
       "      <th>0</th>\n",
       "      <td>Ridge</td>\n",
       "      <td>423749.2511956893</td>\n",
       "      <td>0.6626253340532142</td>\n",
       "      <td>7.602662617458295</td>\n",
       "    </tr>\n",
       "    <tr>\n",
       "      <th>1</th>\n",
       "      <td>Ridge2</td>\n",
       "      <td>423762.81270740024</td>\n",
       "      <td>0.6626150744689492</td>\n",
       "      <td>7.599450997227071</td>\n",
       "    </tr>\n",
       "    <tr>\n",
       "      <th>2</th>\n",
       "      <td>Lasso</td>\n",
       "      <td>423755.2162766188</td>\n",
       "      <td>0.6626235497297432</td>\n",
       "      <td>7.603404419940278</td>\n",
       "    </tr>\n",
       "    <tr>\n",
       "      <th>3</th>\n",
       "      <td>Lasso2</td>\n",
       "      <td>423755.2168100557</td>\n",
       "      <td>0.6626235496510025</td>\n",
       "      <td>7.603404295946575</td>\n",
       "    </tr>\n",
       "    <tr>\n",
       "      <th>4</th>\n",
       "      <td>Elastic1</td>\n",
       "      <td>446066.9252404609</td>\n",
       "      <td>0.6489260933940177</td>\n",
       "      <td>6.657383614325499</td>\n",
       "    </tr>\n",
       "    <tr>\n",
       "      <th>5</th>\n",
       "      <td>Elastic2</td>\n",
       "      <td>616376.1605312865</td>\n",
       "      <td>0.3906174184208623</td>\n",
       "      <td>9.304927492387593</td>\n",
       "    </tr>\n",
       "    <tr>\n",
       "      <th>6</th>\n",
       "      <td>LinearRegr2</td>\n",
       "      <td>423755.21608878736</td>\n",
       "      <td>0.6626235498035239</td>\n",
       "      <td>7.6034044711040485</td>\n",
       "    </tr>\n",
       "    <tr>\n",
       "      <th>7</th>\n",
       "      <td>LinearRegr</td>\n",
       "      <td>423755.2160887873</td>\n",
       "      <td>0.662623549803524</td>\n",
       "      <td>7.603404471104058</td>\n",
       "    </tr>\n",
       "  </tbody>\n",
       "</table>\n",
       "</div>"
      ],
      "text/plain": [
       "  Модель регрессии                 MAE                  R2                MAPE\n",
       "0            Ridge   423749.2511956893  0.6626253340532142   7.602662617458295\n",
       "1           Ridge2  423762.81270740024  0.6626150744689492   7.599450997227071\n",
       "2            Lasso   423755.2162766188  0.6626235497297432   7.603404419940278\n",
       "3           Lasso2   423755.2168100557  0.6626235496510025   7.603404295946575\n",
       "4         Elastic1   446066.9252404609  0.6489260933940177   6.657383614325499\n",
       "5         Elastic2   616376.1605312865  0.3906174184208623   9.304927492387593\n",
       "6      LinearRegr2  423755.21608878736  0.6626235498035239  7.6034044711040485\n",
       "7       LinearRegr   423755.2160887873   0.662623549803524   7.603404471104058"
      ]
     },
     "execution_count": 55,
     "metadata": {},
     "output_type": "execute_result"
    }
   ],
   "source": [
    "#  результаты MAE\n",
    "a = np.array(MAE_y)\n",
    "b = np.array(R2_y)\n",
    "c = np.array(MAPE_y)\n",
    "Mod_errors = pd.DataFrame({'Модель регрессии': a[:,0], 'MAE': a[:,1], \n",
    "                             'R2': b[:,1], 'MAPE': c[:,1]})\n",
    "Mod_errors"
   ]
  },
  {
   "cell_type": "code",
   "execution_count": 56,
   "id": "8fa166c2-c3be-4d2d-902c-ec72aa5ef7df",
   "metadata": {},
   "outputs": [],
   "source": [
    "Mod_errors['MAE']=pd.to_numeric(Mod_errors['MAE'], downcast=\"integer\")\n",
    "Mod_errors['R2']=pd.to_numeric(Mod_errors['R2'], downcast=\"integer\")\n",
    "Mod_errors['MAPE']=pd.to_numeric(Mod_errors['MAPE'], downcast=\"integer\")"
   ]
  },
  {
   "cell_type": "code",
   "execution_count": 57,
   "id": "70c21dd7-036f-45e7-9ea0-00aaf2b07612",
   "metadata": {},
   "outputs": [
    {
     "data": {
      "text/html": [
       "<div>\n",
       "<style scoped>\n",
       "    .dataframe tbody tr th:only-of-type {\n",
       "        vertical-align: middle;\n",
       "    }\n",
       "\n",
       "    .dataframe tbody tr th {\n",
       "        vertical-align: top;\n",
       "    }\n",
       "\n",
       "    .dataframe thead th {\n",
       "        text-align: right;\n",
       "    }\n",
       "</style>\n",
       "<table border=\"1\" class=\"dataframe\">\n",
       "  <thead>\n",
       "    <tr style=\"text-align: right;\">\n",
       "      <th></th>\n",
       "      <th>Модель регрессии</th>\n",
       "      <th>MAE</th>\n",
       "      <th>R2</th>\n",
       "      <th>MAPE</th>\n",
       "    </tr>\n",
       "  </thead>\n",
       "  <tbody>\n",
       "    <tr>\n",
       "      <th>0</th>\n",
       "      <td>Ridge</td>\n",
       "      <td>423749.251196</td>\n",
       "      <td>0.662625</td>\n",
       "      <td>7.602663</td>\n",
       "    </tr>\n",
       "    <tr>\n",
       "      <th>1</th>\n",
       "      <td>Ridge2</td>\n",
       "      <td>423762.812707</td>\n",
       "      <td>0.662615</td>\n",
       "      <td>7.599451</td>\n",
       "    </tr>\n",
       "    <tr>\n",
       "      <th>2</th>\n",
       "      <td>Lasso</td>\n",
       "      <td>423755.216277</td>\n",
       "      <td>0.662624</td>\n",
       "      <td>7.603404</td>\n",
       "    </tr>\n",
       "    <tr>\n",
       "      <th>3</th>\n",
       "      <td>Lasso2</td>\n",
       "      <td>423755.216810</td>\n",
       "      <td>0.662624</td>\n",
       "      <td>7.603404</td>\n",
       "    </tr>\n",
       "    <tr>\n",
       "      <th>4</th>\n",
       "      <td>Elastic1</td>\n",
       "      <td>446066.925240</td>\n",
       "      <td>0.648926</td>\n",
       "      <td>6.657384</td>\n",
       "    </tr>\n",
       "    <tr>\n",
       "      <th>5</th>\n",
       "      <td>Elastic2</td>\n",
       "      <td>616376.160531</td>\n",
       "      <td>0.390617</td>\n",
       "      <td>9.304927</td>\n",
       "    </tr>\n",
       "    <tr>\n",
       "      <th>6</th>\n",
       "      <td>LinearRegr2</td>\n",
       "      <td>423755.216089</td>\n",
       "      <td>0.662624</td>\n",
       "      <td>7.603404</td>\n",
       "    </tr>\n",
       "    <tr>\n",
       "      <th>7</th>\n",
       "      <td>LinearRegr</td>\n",
       "      <td>423755.216089</td>\n",
       "      <td>0.662624</td>\n",
       "      <td>7.603404</td>\n",
       "    </tr>\n",
       "  </tbody>\n",
       "</table>\n",
       "</div>"
      ],
      "text/plain": [
       "  Модель регрессии            MAE        R2      MAPE\n",
       "0            Ridge  423749.251196  0.662625  7.602663\n",
       "1           Ridge2  423762.812707  0.662615  7.599451\n",
       "2            Lasso  423755.216277  0.662624  7.603404\n",
       "3           Lasso2  423755.216810  0.662624  7.603404\n",
       "4         Elastic1  446066.925240  0.648926  6.657384\n",
       "5         Elastic2  616376.160531  0.390617  9.304927\n",
       "6      LinearRegr2  423755.216089  0.662624  7.603404\n",
       "7       LinearRegr  423755.216089  0.662624  7.603404"
      ]
     },
     "execution_count": 57,
     "metadata": {},
     "output_type": "execute_result"
    }
   ],
   "source": [
    "Mod_errors"
   ]
  },
  {
   "cell_type": "code",
   "execution_count": 58,
   "id": "940c14cb-4def-4de2-b71c-804eb9a58537",
   "metadata": {},
   "outputs": [
    {
     "data": {
      "image/png": "[encoded data removed]",
      "text/plain": [
       "<Figure size 1080x720 with 1 Axes>"
      ]
     },
     "metadata": {},
     "output_type": "display_data"
    }
   ],
   "source": [
    "# Построим гистограмму ошибки\n",
    "plt.figure(figsize=(15, 10))\n",
    "plt.barh(Mod_errors['Модель регрессии'], Mod_errors['MAE'])\n",
    "plt.show()"
   ]
  },
  {
   "cell_type": "code",
   "execution_count": 59,
   "id": "29714401-fe4f-4d4a-afdd-7f27e28b9913",
   "metadata": {},
   "outputs": [
    {
     "data": {
      "image/png": "[encoded data removed]",
      "text/plain": [
       "<Figure size 1080x720 with 1 Axes>"
      ]
     },
     "metadata": {},
     "output_type": "display_data"
    }
   ],
   "source": [
    "#Построим гистограмму ошибки\n",
    "plt.figure(figsize=(15, 10))\n",
    "plt.barh(Mod_errors['Модель регрессии'], Mod_errors['R2'])\n",
    "plt.show()"
   ]
  },
  {
   "cell_type": "code",
   "execution_count": 60,
   "id": "0c299e19-5a83-4008-9f6a-5ff5277bbd2c",
   "metadata": {},
   "outputs": [
    {
     "data": {
      "image/png": "[encoded data removed]",
      "text/plain": [
       "<Figure size 1080x720 with 1 Axes>"
      ]
     },
     "metadata": {},
     "output_type": "display_data"
    }
   ],
   "source": [
    "# Построим гистограмму ошибки\n",
    "plt.figure(figsize=(15, 10))\n",
    "plt.barh(Mod_errors['Модель регрессии'], Mod_errors['MAPE'])\n",
    "plt.show()"
   ]
  }
 ],
 "metadata": {
  "kernelspec": {
   "display_name": "Python 3 (ipykernel)",
   "language": "python",
   "name": "python3"
  },
  "language_info": {
   "codemirror_mode": {
    "name": "ipython",
    "version": 3
   },
   "file_extension": ".py",
   "mimetype": "text/x-python",
   "name": "python",
   "nbconvert_exporter": "python",
   "pygments_lexer": "ipython3",
   "version": "3.9.12"
  }
 },
 "nbformat": 4,
 "nbformat_minor": 5
}
